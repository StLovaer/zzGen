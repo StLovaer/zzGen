{
 "cells": [
  {
   "cell_type": "code",
   "execution_count": 10,
   "metadata": {},
   "outputs": [],
   "source": [
    "import json\n",
    "class key:\n",
    "    def __init__(self,value,type) -> None:\n",
    "        self.value=value\n",
    "        self.type=type\n",
    "        # self.name=name\n",
    "class Table:\n",
    "    def __init__(self,tb_name,col) -> None:\n",
    "        self.name=tb_name\n",
    "        self.col=col\n",
    "        self.col_data_dis={}\n",
    "    \n",
    "    def addCharacteristics(self,col_name,data_dis):\n",
    "        col_name_set=set(self.col[0:len(self.col)])\n",
    "        if col_name not in col_name_set:\n",
    "            print(\"error: add data characteristics failed. Col name not found.\")\n",
    "        else:\n",
    "            self.col_data_dis[col_name]=data_dis"
   ]
  },
  {
   "cell_type": "code",
   "execution_count": 13,
   "metadata": {},
   "outputs": [],
   "source": [
    "jsonFile = open('input.json','r')\n",
    "input = json.loads(jsonFile.read())\n",
    "print(input)\n",
    "all_tables = []\n",
    "for table in input['Tables']:\n",
    "    tb_name = table['Table Name']\n",
    "    tb_cols = []\n",
    "    for col in table['Table Columns']:\n",
    "        col_name = col['Column Name']\n",
    "        is_nullable = col['is_nullable']\n",
    "        col_type = col['Column Type'][0]['data_type']\n",
    "        tb_cols.append(key(col_name,col_type))\n",
    "    all_tables.append(Table(tb_name,tb_cols))"
   ]
  },
  {
   "cell_type": "code",
   "execution_count": 15,
   "metadata": {},
   "outputs": [
    {
     "name": "stdout",
     "output_type": "stream",
     "text": [
      "<__main__.Table object at 0x1124526b0>\n"
     ]
    }
   ],
   "source": [
    "print(all_tables[0])"
   ]
  },
  {
   "cell_type": "code",
   "execution_count": null,
   "metadata": {},
   "outputs": [],
   "source": []
  }
 ],
 "metadata": {
  "kernelspec": {
   "display_name": "local",
   "language": "python",
   "name": "python3"
  },
  "language_info": {
   "codemirror_mode": {
    "name": "ipython",
    "version": 3
   },
   "file_extension": ".py",
   "mimetype": "text/x-python",
   "name": "python",
   "nbconvert_exporter": "python",
   "pygments_lexer": "ipython3",
   "version": "3.10.4"
  },
  "orig_nbformat": 4
 },
 "nbformat": 4,
 "nbformat_minor": 2
}
