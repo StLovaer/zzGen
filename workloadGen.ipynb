{
 "cells": [
  {
   "cell_type": "code",
   "execution_count": 15,
   "metadata": {},
   "outputs": [],
   "source": [
    "import numpy as np\n",
    "import random\n",
    "import json\n",
    "\n",
    "class simpleSQL:\n",
    "    def __init__(self) -> None:\n",
    "        self.token=[]\n",
    "        \n",
    "    # def __init__(self,token = None) -> None:\n",
    "    #     self.token=token\n",
    "        \n",
    "    def add(self,x):\n",
    "        self.token.append(x)\n",
    "        \n",
    "    def toStr(self):\n",
    "        for i in range(len(self.token)):\n",
    "            print(str(self.token[i].value)+\" \",end=\"\")\n",
    "        print()\n",
    "\n",
    "class key:\n",
    "    def __init__(self,value,type) -> None:\n",
    "        self.value=value\n",
    "        self.type=type\n",
    "        # self.name=name\n"
   ]
  },
  {
   "cell_type": "code",
   "execution_count": 16,
   "metadata": {},
   "outputs": [],
   "source": [
    "class foreign_constraint:\n",
    "    def __init__(self,tb1,col1,tb2,col2) -> None:\n",
    "        self.tb1=tb1\n",
    "        self.col1=col1\n",
    "        self.tb2=tb2\n",
    "        self.col2=col2"
   ]
  },
  {
   "cell_type": "code",
   "execution_count": 17,
   "metadata": {},
   "outputs": [],
   "source": [
    "class Table:\n",
    "    def __init__(self,tb_name,col) -> None:\n",
    "        self.name=tb_name\n",
    "        self.col=col\n",
    "        self.col_data_dis={}\n",
    "    \n",
    "    def addCharacteristics(self,col_name,data_dis):\n",
    "        col_name_set=set(self.col[0:len(self.col)])\n",
    "        if col_name not in col_name_set:\n",
    "            print(\"error: add data characteristics failed. Col name not found.\")\n",
    "        else:\n",
    "            self.col_data_dis[col_name]=data_dis"
   ]
  },
  {
   "cell_type": "code",
   "execution_count": 18,
   "metadata": {},
   "outputs": [],
   "source": [
    "class DBschema:\n",
    "    def __init__(self,tbs,cons=None) -> None:\n",
    "        self.tables=tbs\n",
    "        # self.tb_num=len(tbs)\n",
    "        self.constraint=cons"
   ]
  },
  {
   "cell_type": "code",
   "execution_count": 19,
   "metadata": {},
   "outputs": [],
   "source": [
    "# Random sampling in a given probability distribution graph\n",
    "# ---- return the position(i.e. l+index) corresponding to the sample num.\n",
    "def randNumGen(l,r,pdg):\n",
    "    if r-l+1 != len(pdg):\n",
    "        print(\"l is \"+str(l)+\" r is \"+str(r)+\" and pdg is \"+str(pdg))\n",
    "        print(\"error : pdg not match [l,r]\")\n",
    "        return l-1\n",
    "    one_=sum(pdg)\n",
    "    if abs(one_-1.0)>1e-5:\n",
    "        print(\"error : probability sum \"+str(one_)+\" do not equal 1\")\n",
    "        return l-1\n",
    "    pdg_=np.array(pdg)\n",
    "    pdg_=[round(i*1000) for i in pdg_]\n",
    "    maxv=sum(pdg_)\n",
    "    num=random.randint(0,maxv-1)\n",
    "    index=0\n",
    "    for i in range(len(pdg_)):\n",
    "        num=num-pdg_[i]\n",
    "        if num<0:\n",
    "            index=i\n",
    "            break\n",
    "    return l+index"
   ]
  },
  {
   "attachments": {},
   "cell_type": "markdown",
   "metadata": {},
   "source": [
    "##### test1 of randNumGen"
   ]
  },
  {
   "cell_type": "code",
   "execution_count": 20,
   "metadata": {},
   "outputs": [
    {
     "name": "stdout",
     "output_type": "stream",
     "text": [
      "9976\n",
      "20119\n",
      "29850\n",
      "40054\n",
      "0\n"
     ]
    }
   ],
   "source": [
    "dict={}\n",
    "for i in range(1,6):\n",
    "    dict[i]=0\n",
    "for i in range(1,100000,1):\n",
    "    # print(randNumGen(1,5,np.full((5),0.2)))\n",
    "    # dict[randNumGen(1,5,np.full((5),0.2))]+=1\n",
    "    dict[randNumGen(1,5,[0.1,0.2,0.3,0.4,0.0])]+=1\n",
    "for i in range(1,6):\n",
    "    print(dict[i])"
   ]
  },
  {
   "attachments": {},
   "cell_type": "markdown",
   "metadata": {},
   "source": [
    "##### test2 of randNumGen"
   ]
  },
  {
   "cell_type": "code",
   "execution_count": 21,
   "metadata": {},
   "outputs": [
    {
     "name": "stdout",
     "output_type": "stream",
     "text": [
      "657\n",
      "343\n"
     ]
    }
   ],
   "source": [
    "dict={}\n",
    "dict[0]=0\n",
    "dict[1]=0\n",
    "for i in range(1000):\n",
    "    dict[randNumGen(0,1,np.array([0.7,0.3]))]+=1\n",
    "print(dict[0])\n",
    "print(dict[1])"
   ]
  },
  {
   "cell_type": "code",
   "execution_count": 22,
   "metadata": {},
   "outputs": [],
   "source": [
    "# data access distribution\n",
    "class feature:\n",
    "    def __init__(self,rwRatio,avgtb) -> None:\n",
    "        self.rwRatio=rwRatio\n",
    "        self.avtb=avgtb\n",
    "        "
   ]
  },
  {
   "attachments": {},
   "cell_type": "markdown",
   "metadata": {},
   "source": [
    "> ##### update table_name Set column_name = new_value Where column_name = some_value》\n",
    "> ##### insert into table_name [(column1,column2,…)] value (value1,value2,…)\n",
    "> ##### select {col_name} from table_name where col_name <=> constant"
   ]
  },
  {
   "cell_type": "code",
   "execution_count": 23,
   "metadata": {},
   "outputs": [],
   "source": [
    "class SQLGen:\n",
    "    def __init__(self,dbs) -> None:\n",
    "        self.sqlSet=[]\n",
    "        self.sql=simpleSQL()\n",
    "        self.dbs=dbs\n",
    "\n",
    "    def generate(self,condition):\n",
    "        # feature1 : read/write ratio\n",
    "        rw_choice=randNumGen(0,1,np.array([condition.rwRatio,1-condition.rwRatio]))\n",
    "        # feature2 : average table num\n",
    "        tb_num=randNumGen(1,2,[0.5,0.5])\n",
    "        # feature3 : table data distribution\n",
    "        tb_choice=self.dbs.tables[randNumGen(0,len(self.dbs.tables)-1,[1.0/len(self.dbs.tables) for i in range(len(self.dbs.tables))])]\n",
    "        # feature4 : different query comparison constraint ratio\n",
    "        cons=randNumGen(0,3,[1.0/4 for i in range(4)])\n",
    "        # feature5 : query data domain distribution\n",
    "        data=randNumGen(0,99,[1.0/100 for i in range(100)])\n",
    "        if rw_choice==0:\n",
    "            self.sql.add(key(value=\"select\",type=\"keyword\"))\n",
    "            self.sql.add(key(value=\"*\",type=\"colname\"))\n",
    "            self.sql.add(key(value=\"from\",type=\"keyword\"))\n",
    "            self.sql.add(key(value=tb_choice.name,type=\"tbname\"))\n",
    "            self.sql.add(key(value=\"where\",type=\"keyword\"))\n",
    "            self.sql.add(key(value=tb_choice.col[0].value,type=\"colname\"))\n",
    "            if cons==0:\n",
    "                self.sql.add(key(value=\">\",type=\"compare\"))\n",
    "            else:\n",
    "                if cons==1:\n",
    "                    self.sql.add(key(value=\"<\",type=\"compare\"))\n",
    "                else:\n",
    "                    if cons==2:\n",
    "                        self.sql.add(key(value=\"=\",type=\"compare\"))\n",
    "                    else: \n",
    "                        if cons==3:\n",
    "                            self.sql.add(key(value=\"!=\",type=\"compare\"))\n",
    "                        else: \n",
    "                            pass\n",
    "            self.sql.add(key(value=data,type=\"value\"))\n",
    "            self.sql.add(key(value=\";\",type=\"end\"))\n",
    "        else:\n",
    "            self.sql.add(key(value=\"insert\",type=\"keyword\"))\n",
    "            self.sql.add(key(value=\"into\",type=\"keyword\"))\n",
    "            self.sql.add(key(value=tb_choice.name,type=\"tbname\"))\n",
    "            self.sql.add(key(value=\"value\",type=\"keyword\"))\n",
    "            tmp=\"(\"\n",
    "            for i in range(len(tb_choice.col)):\n",
    "                if i!=0:\n",
    "                    tmp+=\",\"\n",
    "                tmp+=str(randNumGen(0,99,[1.0/100 for i in range(100)]));\n",
    "            tmp+=\")\"\n",
    "            self.sql.add(key(value=tmp,type=\"value\"))\n",
    "            self.sql.add(key(value=\";\",type=\"end\"))\n",
    "        \n",
    "        self.sqlSet.append(self.sql)\n",
    "        return self.sql\n"
   ]
  },
  {
   "cell_type": "code",
   "execution_count": 24,
   "metadata": {},
   "outputs": [],
   "source": [
    "jsonFile = open('input.json','r')\n",
    "input = json.loads(jsonFile.read())\n",
    "#print(input)\n",
    "all_tables = []\n",
    "cons = []\n",
    "# load tabke name & column name\n",
    "for table in input['Tables']:\n",
    "    tb_name = table['Table Name']\n",
    "    tb_cols = []\n",
    "    for col in table['Table Columns']:\n",
    "        col_name = col['Column Name']\n",
    "        is_nullable = col['is_nullable']\n",
    "        col_type = col['Column Type'][0]['data_type']\n",
    "        tb_cols.append(key(col_name,col_type))\n",
    "    all_tables.append(Table(tb_name,tb_cols))\n",
    "# load constraints\n",
    "for con in input['Constraints']:\n",
    "    cons.append(input['Constraints'][con])"
   ]
  },
  {
   "cell_type": "code",
   "execution_count": 25,
   "metadata": {},
   "outputs": [
    {
     "name": "stdout",
     "output_type": "stream",
     "text": [
      "insert into tb3 value (82,27) ; \n"
     ]
    }
   ],
   "source": [
    "#tb=Table(\"lzz\",[key(\"age\",int),key(\"weight\",int)])\n",
    "dbs=DBschema(tbs=all_tables,cons=None)\n",
    "sg=SQLGen(dbs=dbs)\n",
    "fea=feature(cons[0],cons[1])\n",
    "sg.generate(condition=fea)\n",
    "sg.sql.toStr()"
   ]
  },
  {
   "cell_type": "code",
   "execution_count": 26,
   "metadata": {},
   "outputs": [],
   "source": [
    "def getNTable(dbs,n,pdg):\n",
    "    all_tb=[dbs.tables[i] for i in range(len(dbs.tables))]\n",
    "    # all_tb=[i for i in len(dbs.tables)]\n",
    "    tb_set=set()\n",
    "    if len(all_tb)<n:\n",
    "        return \n",
    "    while len(tb_set)<n:\n",
    "        x=randNumGen(0,len(all_tb)-1,pdg)\n",
    "        if x!=-1:\n",
    "            tb_set.add(dbs.tables[x])\n",
    "        else:\n",
    "            return -1,set()\n",
    "    return 1,tb_set"
   ]
  },
  {
   "attachments": {},
   "cell_type": "markdown",
   "metadata": {},
   "source": [
    "##### test of getNTable"
   ]
  },
  {
   "cell_type": "code",
   "execution_count": 27,
   "metadata": {},
   "outputs": [
    {
     "name": "stdout",
     "output_type": "stream",
     "text": [
      "2903\n",
      "7864\n",
      "9233\n",
      "0\n"
     ]
    }
   ],
   "source": [
    "dict={}\n",
    "for i in range(len(dbs.tables)):\n",
    "    dict[dbs.tables[i].name]=0\n",
    "for i in range(10000):\n",
    "    bool,tb_set=getNTable(dbs=dbs,n=2,pdg=[0.1,0.3,0.6,0.0])\n",
    "    for i in tb_set:\n",
    "        # print(i.name)\n",
    "        dict[i.name]+=1\n",
    "for i in range(len(dbs.tables)):\n",
    "    print(dict[dbs.tables[i].name])\n"
   ]
  },
  {
   "cell_type": "code",
   "execution_count": 28,
   "metadata": {},
   "outputs": [],
   "source": [
    "class SQLGen2(SQLGen):\n",
    "    def generate(self,condition):\n",
    "        # feature1 : read/write ratio\n",
    "        rw_choice=randNumGen(0,1,np.array([condition.rwRatio,1-condition.rwRatio]))\n",
    "        if rw_choice==0:\n",
    "            # read\n",
    "            # feature2 : average table num\n",
    "            tb_num=randNumGen(1,2,[0.5,0.5])\n",
    "            if tb_num==1:\n",
    "                # feature3 : table data distribution\n",
    "                tb_choice=self.dbs.tables[randNumGen(0,len(self.dbs.tables)-1,[1.0/len(self.dbs.tables) for i in range(len(self.dbs.tables))])]\n",
    "                # feature4 : different query comparison constraint ratio\n",
    "                cons=randNumGen(0,3,[1.0/4 for i in range(4)])\n",
    "                # feature5 : query data domain distribution\n",
    "                data=randNumGen(0,99,[1.0/100 for i in range(100)])\n",
    "                self.sql.add(key(value=\"select\",type=\"keyword\"))\n",
    "                self.sql.add(key(value=\"*\",type=\"colname\"))\n",
    "                self.sql.add(key(value=\"from\",type=\"keyword\"))\n",
    "                self.sql.add(key(value=tb_choice.name,type=\"tbname\"))\n",
    "                self.sql.add(key(value=\"where\",type=\"keyword\"))\n",
    "                self.sql.add(key(value=tb_choice.col[0].value,type=\"colname\"))\n",
    "                if cons==0:\n",
    "                    self.sql.add(key(value=\">\",type=\"compare\"))\n",
    "                elif cons==1:\n",
    "                    self.sql.add(key(value=\"<\",type=\"compare\"))\n",
    "                elif cons==2:\n",
    "                    self.sql.add(key(value=\"=\",type=\"compare\"))\n",
    "                elif cons==3:\n",
    "                    self.sql.add(key(value=\"!=\",type=\"compare\"))\n",
    "                else: \n",
    "                    pass\n",
    "                self.sql.add(key(value=data,type=\"value\"))\n",
    "                self.sql.add(key(value=\";\",type=\"end\"))\n",
    "            elif tb_num==2:\n",
    "                # JOIN\n",
    "                bool,tbs=getNTable(dbs=dbs,n=2,pdg=np.full(2,0.5))\n",
    "                if bool==-1:\n",
    "                    print(\"fatal error : dbs table num not enough\")\n",
    "                else:\n",
    "                    self.sql.add(key(value=\"select\",type=\"keyword\"))\n",
    "                    self.sql.add(key(value=\"*\",type=\"colname\"))\n",
    "                    self.sql.add(key(value=\"from\",type=\"keyword\"))\n",
    "                    tbs_=list(tbs)\n",
    "                    self.sql.add(key(value=tbs_[0].name,type=\"tbname\"))\n",
    "                    self.sql.add(key(value=\"join\",type=\"keyword\"))\n",
    "                    self.sql.add(key(value=tbs_[1].name,type=\"tbname\"))\n",
    "                    self.sql.add(key(value=\"where\",type=\"keyword\"))\n",
    "                    self.sql.add(key(value=tbs_[0].col[0].value,type=\"colname\"))\n",
    "                    self.sql.add(key(value=\"=\",type=\"compare\"))\n",
    "                    self.sql.add(key(value=tbs_[1].col[0].value,type=\"colname\"))\n",
    "            else:\n",
    "                pass\n",
    "        elif rw_choice==1:\n",
    "            tb_choice=self.dbs.tables[randNumGen(0,len(self.dbs.tables)-1,[1.0/len(self.dbs.tables) for i in range(len(self.dbs.tables))])]\n",
    "            self.sql.add(key(value=\"insert\",type=\"keyword\"))\n",
    "            self.sql.add(key(value=\"into\",type=\"keyword\"))\n",
    "            self.sql.add(key(value=tb_choice.name,type=\"tbname\"))\n",
    "            self.sql.add(key(value=\"value\",type=\"keyword\"))\n",
    "            tmp=\"(\"\n",
    "            for i in range(len(tb_choice.col)):\n",
    "                if i!=0:\n",
    "                    tmp+=\",\"\n",
    "                tmp+=str(randNumGen(0,99,[1.0/100 for i in range(100)]));\n",
    "            tmp+=\")\"\n",
    "            self.sql.add(key(value=tmp,type=\"value\"))\n",
    "            self.sql.add(key(value=\";\",type=\"end\"))\n",
    "        else:\n",
    "            pass\n",
    "        self.sqlSet.append(self.sql)\n",
    "        return self.sql\n"
   ]
  },
  {
   "cell_type": "code",
   "execution_count": null,
   "metadata": {},
   "outputs": [],
   "source": []
  }
 ],
 "metadata": {
  "kernelspec": {
   "display_name": "gpt3",
   "language": "python",
   "name": "python3"
  },
  "language_info": {
   "codemirror_mode": {
    "name": "ipython",
    "version": 3
   },
   "file_extension": ".py",
   "mimetype": "text/x-python",
   "name": "python",
   "nbconvert_exporter": "python",
   "pygments_lexer": "ipython3",
   "version": "3.10.8"
  },
  "orig_nbformat": 4,
  "vscode": {
   "interpreter": {
    "hash": "b9ac02aae607139adf8e5fa8a62e114f592a713bf43b6e1a58735c485260187e"
   }
  }
 },
 "nbformat": 4,
 "nbformat_minor": 2
}
