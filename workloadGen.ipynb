{
 "cells": [
  {
   "cell_type": "code",
   "execution_count": 71,
   "metadata": {},
   "outputs": [],
   "source": [
    "import numpy as np\n",
    "import random\n",
    "import json\n",
    "# new one\n",
    "class simpleSQL:\n",
    "    def __init__(self) -> None:\n",
    "        self.token=[]\n",
    "        \n",
    "    # def __init__(self,token = None) -> None:\n",
    "    #     self.token=token\n",
    "        \n",
    "    def add(self,x):\n",
    "        self.token.append(x)\n",
    "    \n",
    "    def toStr(self):\n",
    "        ans=\"\"\n",
    "        for i in range(len(self.token)):\n",
    "            ans+=str(self.token[i].value)\n",
    "            if i!=len(self.token)-1 \\\n",
    "                and self.token[i].type!=\"tbname_\"\\\n",
    "                    and self.token[i].type!=\"dot\":\n",
    "                ans+=\" \"\n",
    "            # print(str(self.token[i].value)+\" \",end=\"\")\n",
    "        # print()\n",
    "        return ans+\"\\n\"\n",
    "\n",
    "class key:\n",
    "    def __init__(self,value,type) -> None:\n",
    "        self.value=value\n",
    "        self.type=type\n",
    "        # self.name=name\n"
   ]
  },
  {
   "cell_type": "code",
   "execution_count": 72,
   "metadata": {},
   "outputs": [],
   "source": [
    "class foreign_constraint:\n",
    "    def __init__(self,tb1,col1,tb2,col2) -> None:\n",
    "        self.tb1=tb1\n",
    "        self.col1=col1\n",
    "        self.tb2=tb2\n",
    "        self.col2=col2"
   ]
  },
  {
   "cell_type": "code",
   "execution_count": 73,
   "metadata": {},
   "outputs": [],
   "source": [
    "class Table:\n",
    "    def __init__(self,tb_name,col,prim_col,foreign_cons) -> None:\n",
    "        self.name=tb_name\n",
    "        self.col=col\n",
    "        self.col_data_dis={}\n",
    "        self.prim_col = prim_col\n",
    "        self.foreign_cons = foreign_cons\n",
    "    \n",
    "    def addCharacteristics(self,col_name,data_dis):\n",
    "        col_name_set=set(self.col[0:len(self.col)])\n",
    "        if col_name not in col_name_set:\n",
    "            print(\"error: add data characteristics failed. Col name not found.\")\n",
    "        else:\n",
    "            self.col_data_dis[col_name]=data_dis"
   ]
  },
  {
   "cell_type": "code",
   "execution_count": 74,
   "metadata": {},
   "outputs": [],
   "source": [
    "class DBschema:\n",
    "    def __init__(self,tbs,cons=None) -> None:\n",
    "        self.tables=tbs\n",
    "        # self.tb_num=len(tbs)\n",
    "        self.constraint=cons\n",
    "    \n",
    "    def toStr(self):\n",
    "        ans=\"\"\n",
    "        for i,j in enumerate(self.tables):\n",
    "            ans+=\"table \"+str(i+1)\n",
    "            ans+=\" : \"+j.name\n",
    "            ans+=\"\\n\"\n",
    "        return ans\n",
    "            "
   ]
  },
  {
   "cell_type": "code",
   "execution_count": 75,
   "metadata": {},
   "outputs": [],
   "source": [
    "# Random sampling in a given probability distribution graph\n",
    "# ---- return the position(i.e. l+index) corresponding to the sample num.\n",
    "def randNumGen(l,r,pdg):\n",
    "    if r-l+1 != len(pdg):\n",
    "        print(\"l is \"+str(l)+\" r is \"+str(r)+\" and pdg is \"+str(pdg))\n",
    "        print(\"error : pdg not match [l,r]\")\n",
    "        return l-1\n",
    "    one_=sum(pdg)\n",
    "    if abs(one_-1.0)>1e-5:\n",
    "        print(\"error : probability sum \"+str(one_)+\" do not equal 1\")\n",
    "        return l-1\n",
    "    pdg_=np.array(pdg)\n",
    "    pdg_=[round(i*1000) for i in pdg_]\n",
    "    maxv=sum(pdg_)\n",
    "    num=random.randint(0,maxv-1)\n",
    "    index=0\n",
    "    for i in range(len(pdg_)):\n",
    "        num=num-pdg_[i]\n",
    "        if num<0:\n",
    "            index=i\n",
    "            break\n",
    "    return l+index"
   ]
  },
  {
   "cell_type": "code",
   "execution_count": 76,
   "metadata": {},
   "outputs": [
    {
     "name": "stdout",
     "output_type": "stream",
     "text": [
<<<<<<< HEAD
      "9967\n",
      "20032\n",
      "29870\n",
      "40130\n",
=======
      "10038\n",
      "19933\n",
      "30125\n",
      "39903\n",
>>>>>>> 30689e0ca1d10658832075739da9956ea5d13842
      "0\n"
     ]
    }
   ],
   "source": [
    "dict={}\n",
    "for i in range(1,6):\n",
    "    dict[i]=0\n",
    "for i in range(1,100000,1):\n",
    "    # print(randNumGen(1,5,np.full((5),0.2)))\n",
    "    # dict[randNumGen(1,5,np.full((5),0.2))]+=1\n",
    "    dict[randNumGen(1,5,[0.1,0.2,0.3,0.4,0.0])]+=1\n",
    "for i in range(1,6):\n",
    "    print(dict[i])"
   ]
  },
  {
   "cell_type": "code",
   "execution_count": 77,
   "metadata": {},
   "outputs": [
    {
     "name": "stdout",
     "output_type": "stream",
     "text": [
<<<<<<< HEAD
      "697\n",
      "303\n"
=======
      "706\n",
      "294\n"
>>>>>>> 30689e0ca1d10658832075739da9956ea5d13842
     ]
    }
   ],
   "source": [
    "dict={}\n",
    "dict[0]=0\n",
    "dict[1]=0\n",
    "for i in range(1000):\n",
    "    dict[randNumGen(0,1,np.array([0.7,0.3]))]+=1\n",
    "print(dict[0])\n",
    "print(dict[1])"
   ]
  },
  {
   "cell_type": "code",
   "execution_count": 78,
   "metadata": {},
   "outputs": [],
   "source": [
    "# data access distribution\n",
    "class feature:\n",
    "    def __init__(self,rwRatio,avgtb,tableDisstribution,feature4,dataDomainDist,constraintNum) -> None:\n",
    "        self.rwRatio=rwRatio\n",
    "        self.avgtb=avgtb\n",
    "        self.tableDisstribution=tableDisstribution\n",
    "        self.feature4 = feature4\n",
    "        self.dataDomainDist = dataDomainDist\n",
    "        self.constraintNum = constraintNum\n",
    "        "
   ]
  },
  {
   "attachments": {},
   "cell_type": "markdown",
   "metadata": {},
   "source": [
    "> ##### update table_name Set column_name = new_value Where column_name = some_value\n",
    "> ##### insert into table_name [(column1,column2,…)] value (value1,value2,…)\n",
    "> ##### select {col_name} from table_name where col_name <=> constant"
   ]
  },
  {
   "cell_type": "code",
   "execution_count": 79,
   "metadata": {},
   "outputs": [],
   "source": [
    "class SQLGen:\n",
    "    def __init__(self,dbs) -> None:\n",
    "        self.sqlSet=[]\n",
    "        self.sql=simpleSQL()\n",
    "        self.dbs=dbs\n",
    "\n",
    "    def generate(self,condition):\n",
    "        # feature1 : read/write ratio\n",
    "        rw_choice=randNumGen(0,1,np.array([condition.rwRatio,1-condition.rwRatio]))\n",
    "        # feature2 : average table num\n",
    "        tb_num=randNumGen(1,2,condition.avgtb)\n",
    "        # print(condition.avgtb)\n",
    "        # feature3 : table data distribution\n",
    "        # tb_choice=self.dbs.tables[randNumGen(0,len(self.dbs.tables)-1,[1.0/len(self.dbs.tables) for i in range(len(self.dbs.tables))])]\n",
    "        tb_choice=self.dbs.tables[randNumGen(0,len(self.dbs.tables)-1,condition.tableDisstribution)]\n",
    "        # feature4 : different query comparison constraint ratio\n",
    "        # cons=randNumGen(0,3,[1.0/4 for i in range(4)])\n",
    "        cons=randNumGen(0,3,condition.feature4)\n",
    "        # feature5 : query data domain distribution\n",
    "        # dataDomainDist\n",
    "        data=randNumGen(0,99,[1.0/100 for i in range(100)])\n",
    "        if rw_choice==0:\n",
    "            self.sql.add(key(value=\"select\",type=\"keyword\"))\n",
    "            self.sql.add(key(value=\"*\",type=\"colname\"))\n",
    "            self.sql.add(key(value=\"from\",type=\"keyword\"))\n",
    "            self.sql.add(key(value=tb_choice.name,type=\"tbname\"))\n",
    "            self.sql.add(key(value=\"where\",type=\"keyword\"))\n",
    "            self.sql.add(key(value=tb_choice.col[0].value,type=\"colname\"))\n",
    "            if cons==0:\n",
    "                self.sql.add(key(value=\">\",type=\"compare\"))\n",
    "            else:\n",
    "                if cons==1:\n",
    "                    self.sql.add(key(value=\"<\",type=\"compare\"))\n",
    "                else:\n",
    "                    if cons==2:\n",
    "                        self.sql.add(key(value=\"=\",type=\"compare\"))\n",
    "                    else: \n",
    "                        if cons==3:\n",
    "                            self.sql.add(key(value=\"!=\",type=\"compare\"))\n",
    "                        else: \n",
    "                            pass\n",
    "            self.sql.add(key(value=data,type=\"value\"))\n",
    "            self.sql.add(key(value=\";\",type=\"end\"))\n",
    "        else:\n",
    "            self.sql.add(key(value=\"insert\",type=\"keyword\"))\n",
    "            self.sql.add(key(value=\"into\",type=\"keyword\"))\n",
    "            self.sql.add(key(value=tb_choice.name,type=\"tbname\"))\n",
    "            self.sql.add(key(value=\"value\",type=\"keyword\"))\n",
    "            tmp=\"(\"\n",
    "            for i in range(len(tb_choice.col)):\n",
    "                if i!=0:\n",
    "                    tmp+=\",\"\n",
    "                tmp+=str(randNumGen(0,99,[1.0/100 for i in range(100)]));\n",
    "            tmp+=\")\"\n",
    "            self.sql.add(key(value=tmp,type=\"value\"))\n",
    "            self.sql.add(key(value=\";\",type=\"end\"))\n",
    "        \n",
    "        self.sqlSet.append(self.sql)\n",
    "        return self.sql\n"
   ]
  },
  {
   "cell_type": "code",
   "execution_count": 80,
   "metadata": {},
   "outputs": [],
   "source": [
    "def loadJson(filePath,mode):\n",
    "    jsonFile = open(filePath,mode)\n",
    "    input = json.loads(jsonFile.read())\n",
    "    # print(input)\n",
    "    all_tables = []\n",
    "    foreign_cons = []\n",
    "    cons = []\n",
    "    # load table name & column name\n",
    "    for table in input['Tables']:\n",
    "        tb_name = table['Table Name']\n",
    "        tb_cols = []\n",
    "        for col in table['Table Columns']:\n",
    "            col_name = col['Column Name']\n",
    "            col_type = col['Data Type']\n",
    "            tb_cols.append(key(col_name,col_type))\n",
    "        \n",
    "        prim_key = key(table['Primary Key']['Name'],table['Primary Key']['Data Type'])\n",
    "        for con in table['Foreign Key']:\n",
    "            foreign_cons.append(foreign_constraint(tb_name,key(con['Foreign Key Name'],con['Foreign Key Type']),\n",
    "                                                con['Refrenced Table'],key(con['Refrenced Primary Key'],con['Refrenced Primary Key Type'])))\n",
    "        all_tables.append(Table(tb_name,tb_cols,prim_key,foreign_cons))\n",
    "    # load constraints\n",
    "    for con in input['Constraints']:\n",
    "        cons.append(input['Constraints'][con])\n",
    "    # print(cons)\n",
    "    fea = feature(cons[0],cons[1],cons[2],cons[3],cons[4],cons[5])\n",
    "    #print(cons[0],cons[1],cons[2],cons[3],cons[4])\n",
    "    return all_tables,fea,foreign_cons\n",
    "\n",
    "# cons应该是feature类型\n",
    "# fea=feature(cons[0],cons[1])\n",
    "# return DBschema,feature"
   ]
  },
  {
   "cell_type": "code",
   "execution_count": 81,
   "metadata": {},
   "outputs": [],
   "source": [
    "all_tables,fea,foreign_cons=loadJson('input.json','r')"
   ]
  },
  {
   "cell_type": "code",
   "execution_count": 82,
   "metadata": {},
   "outputs": [
    {
     "name": "stdout",
     "output_type": "stream",
     "text": [
<<<<<<< HEAD
      "select * from tb22 where col2 = 13 ;\n",
=======
      "select * from tb33 where col1 != 72 ;\n",
>>>>>>> 30689e0ca1d10658832075739da9956ea5d13842
      "\n"
     ]
    }
   ],
   "source": [
    "#tb=Table(\"lzz\",[key(\"age\",int),key(\"weight\",int)])\n",
    "dbs=DBschema(tbs=all_tables,cons=None)\n",
    "sg=SQLGen(dbs=dbs)\n",
    "sg.generate(condition=fea)\n",
    "print(sg.sql.toStr())"
   ]
  },
  {
   "cell_type": "code",
   "execution_count": 83,
   "metadata": {},
   "outputs": [],
   "source": [
    "def getNTable(dbs,n,pdg):\n",
    "    all_tb=[dbs.tables[i] for i in range(len(dbs.tables))]\n",
    "    # all_tb=[i for i in len(dbs.tables)]\n",
    "    tb_set=set()\n",
    "    if len(all_tb)<n:\n",
    "        print(\"fatal error : dbs table num not enough.\")\n",
    "        return -1,set()\n",
    "    while len(tb_set)<n:\n",
    "        x=randNumGen(0,len(all_tb)-1,pdg)\n",
    "        if x!=-1:\n",
    "            tb_set.add(dbs.tables[x])\n",
    "        else:\n",
    "            return -1,set()\n",
    "    # print(\"get N tables succeed.\")\n",
    "    return 1,tb_set"
   ]
  },
  {
   "attachments": {},
   "cell_type": "markdown",
   "metadata": {},
   "source": [
    "##### test of getNTable"
   ]
  },
  {
   "cell_type": "code",
   "execution_count": 84,
   "metadata": {},
   "outputs": [
    {
     "name": "stdout",
     "output_type": "stream",
     "text": [
      "2935\n",
      "7873\n",
      "9192\n",
      "0\n"
     ]
    }
   ],
   "source": [
    "dict={}\n",
    "for i in range(len(dbs.tables)):\n",
    "    dict[dbs.tables[i].name]=0\n",
    "for i in range(10000):\n",
    "    bool,tb_set=getNTable(dbs=dbs,n=2,pdg=[0.1,0.3,0.6,0.0])\n",
    "    for i in tb_set:\n",
    "        # print(i.name)\n",
    "        dict[i.name]+=1\n",
    "for i in range(len(dbs.tables)):\n",
    "    print(dict[dbs.tables[i].name])\n"
   ]
  },
  {
   "cell_type": "code",
   "execution_count": 85,
   "metadata": {},
   "outputs": [],
   "source": [
    "def get1Table(tbs,pdg):\n",
    "    return dbs.tables[randNumGen(0,len(tbs)-1,pdg)]\n",
    "\n",
    "def get1Column(tb,pdg):\n",
    "    return tb.col[randNumGen(0,len(tb.col)-1,pdg)].value"
   ]
  },
  {
   "cell_type": "code",
   "execution_count": 86,
   "metadata": {},
   "outputs": [
    {
     "name": "stdout",
     "output_type": "stream",
     "text": [
      "[0.4, 0.4, 0.2]\n",
      "[0.25, 0.25, 0.25, 0.25]\n"
     ]
    }
   ],
   "source": [
    "print(fea.constraintNum)\n",
    "print(fea.dataDistribution)"
   ]
  },
  {
   "cell_type": "code",
<<<<<<< HEAD
   "execution_count": 17,
=======
   "execution_count": 87,
>>>>>>> 30689e0ca1d10658832075739da9956ea5d13842
   "metadata": {},
   "outputs": [],
   "source": [
    "class SQLGen2(SQLGen):\n",
    "    def generate(self,condition):\n",
    "        # feature1 : read/write ratio\n",
    "        # 理想情况下所有的这些后面有randnum函数参数都应该像下面这样，什么qc_num应该直接等于condition.qc_num\n",
    "        rw_choice=randNumGen(0,1,np.array([condition.rwRatio,1-condition.rwRatio]))\n",
    "        if rw_choice==0:\n",
    "            # read\n",
    "            # feature2 : average table num\n",
    "            tb_num=randNumGen(1,2,condition.avgtb)\n",
    "            if tb_num==1:\n",
    "                # feature3 : table data distribution\n",
    "                # tb_choice=self.dbs.tables[randNumGen(0,len(self.dbs.tables)-1,condition.avgtb)]\n",
    "                # tb_choice=get1Table(self.dbs.tables,np.full(len(self.dbs.tables),1.0/len(self.dbs.tables)))\n",
    "                tb_choice=get1Table(self.dbs.tables,condition.tableDistribution)\n",
    "                # feature4 : different query comparison constraint ratio\n",
    "                # cons=randNumGen(0,3,condition.feature4)\n",
    "                # feature5 : query data domain distribution\n",
    "                # data=randNumGen(0,99,[1.0/100 for i in range(100)])\n",
    "                self.sql.add(key(value=\"select\",type=\"keyword\"))\n",
    "                self.sql.add(key(value=\"*\",type=\"colname\"))\n",
    "                self.sql.add(key(value=\"from\",type=\"keyword\"))\n",
    "                self.sql.add(key(value=tb_choice.name,type=\"tbname\"))\n",
    "                self.sql.add(key(value=\"where\",type=\"keyword\"))\n",
    "                \n",
    "                # feature6 : query constraint num\n",
    "                # print(condition.constraintNum)\n",
    "                qc_num=randNumGen(1,3,condition.constraintNum)\n",
    "                for i in range(qc_num):\n",
    "                    if i!=0:\n",
    "                        if randNumGen(0,1,[0.5,0.5])==0:\n",
    "                            self.sql.add(key(value=\"and\",type=\"predicate\"))\n",
    "                        else:\n",
    "                            self.sql.add(key(value=\"or\",type=\"predicate\"))\n",
    "                    \n",
    "                    # tb_choice=get1Table(self.dbs,np.full(len(self.dbs.tables),1.0/len(self.dbs.tables)))\n",
    "                    col_choice=get1Column(tb_choice,np.full(len(tb_choice.col),1.0/len(tb_choice.col)))\n",
    "                    \n",
    "                    self.sql.add(key(value=tb_choice.name,type=\"tbname_\"))\n",
    "                    self.sql.add(key(value=\".\",type=\"dot\"))\n",
    "                    self.sql.add(key(value=col_choice,type=\"colname\"))\n",
    "                    \n",
    "                    # feature7 : query constraint type\n",
    "                    cons=randNumGen(0,3,condition.feature4)\n",
    "                    if cons==0:\n",
    "                        self.sql.add(key(value=\">\",type=\"compare\"))\n",
    "                    elif cons==1:\n",
    "                        self.sql.add(key(value=\"<\",type=\"compare\"))\n",
    "                    elif cons==2:\n",
    "                        self.sql.add(key(value=\"=\",type=\"compare\"))\n",
    "                    elif cons==3:\n",
    "                        self.sql.add(key(value=\"!=\",type=\"compare\"))\n",
    "                    else:\n",
    "                        pass\n",
    "                    data=randNumGen(0,99,[1.0/100 for i in range(100)])\n",
    "                    self.sql.add(key(value=data,type=\"value\"))\n",
    "                \n",
    "                # self.sql.add(key(value=\";\",type=\"end\"))\n",
    "                \n",
    "            elif tb_num==2:\n",
    "                # JOIN\n",
    "                bool,tbs=getNTable(dbs=dbs,n=2,pdg=np.full(len(dbs.tables),1.0/len(dbs.tables)))\n",
    "                if bool==-1:\n",
    "                    print(\"fatal error : dbs sampled failed.\")\n",
    "                else:\n",
    "                    self.sql.add(key(value=\"select\",type=\"keyword\"))\n",
    "                    self.sql.add(key(value=\"*\",type=\"colname\"))\n",
    "                    self.sql.add(key(value=\"from\",type=\"keyword\"))\n",
    "                    \n",
    "                    tbs_=list(tbs)\n",
    "                    self.sql.add(key(value=tbs_[0].name,type=\"tbname\"))\n",
    "                    self.sql.add(key(value=\"join\",type=\"keyword\"))\n",
    "                    self.sql.add(key(value=tbs_[1].name,type=\"tbname\"))\n",
    "                    self.sql.add(key(value=\"where\",type=\"keyword\"))\n",
    "                    \n",
    "                    self.sql.add(key(value=tbs_[0].name,type=\"tbname_\"))\n",
    "                    self.sql.add(key(value=\".\",type=\"dot\"))\n",
    "                    self.sql.add(key(value=tbs_[0].col[0].value,type=\"colname\"))\n",
    "                    \n",
    "                    self.sql.add(key(value=\"=\",type=\"compare\"))\n",
    "                    \n",
    "                    self.sql.add(key(value=tbs_[1].name,type=\"tbname_\"))\n",
    "                    self.sql.add(key(value=\".\",type=\"dot\"))\n",
    "                    self.sql.add(key(value=tbs_[1].col[0].value,type=\"colname\"))\n",
    "                    \n",
    "                    qc_num=randNumGen(1,3,condition.constraintNum)\n",
    "                    if qc_num>1:\n",
    "                        for i in range(qc_num-1):\n",
    "                            if randNumGen(0,1,[0.5,0.5])==0:\n",
    "                                self.sql.add(key(value=\"and\",type=\"predicate\"))\n",
    "                            else:\n",
    "                                self.sql.add(key(value=\"or\",type=\"predicate\"))\n",
    "                            \n",
    "                            tb_choice=get1Table(tbs_,np.full(len(tbs_),1.0/len(tbs_)))\n",
    "                            col_choice=get1Column(tb_choice,np.full(len(tb_choice.col),1.0/len(tb_choice.col)))\n",
    "                            \n",
    "                            self.sql.add(key(value=tb_choice.name,type=\"tbname_\"))\n",
    "                            self.sql.add(key(value=\".\",type=\"dot\"))\n",
    "                            self.sql.add(key(value=col_choice,type=\"colname\"))\n",
    "                        \n",
    "                            cons=randNumGen(0,3,condition.feature4)\n",
    "                            if cons==0:\n",
    "                                self.sql.add(key(value=\">\",type=\"compare\"))\n",
    "                            elif cons==1:\n",
    "                                self.sql.add(key(value=\"<\",type=\"compare\"))\n",
    "                            elif cons==2:\n",
    "                                self.sql.add(key(value=\"=\",type=\"compare\"))\n",
    "                            elif cons==3:\n",
    "                                self.sql.add(key(value=\"!=\",type=\"compare\"))\n",
    "                            else:\n",
    "                                pass\n",
    "                            data=randNumGen(0,99,[1.0/100 for i in range(100)])\n",
    "                            self.sql.add(key(value=data,type=\"value\"))\n",
    "                        \n",
    "                            # self.sql.add(key(value=\";\",type=\"end\"))\n",
    "            else:\n",
    "                pass\n",
    "            \n",
    "        elif rw_choice==1:\n",
    "            tb_choice=self.dbs.tables[randNumGen(0,len(self.dbs.tables)-1,condition.dataDistribution)]\n",
    "            self.sql.add(key(value=\"insert\",type=\"keyword\"))\n",
    "            self.sql.add(key(value=\"into\",type=\"keyword\"))\n",
    "            self.sql.add(key(value=tb_choice.name,type=\"tbname\"))\n",
    "            self.sql.add(key(value=\"value\",type=\"keyword\"))\n",
    "            tmp=\"(\"\n",
    "            for i in range(len(tb_choice.col)):\n",
    "                if i!=0:\n",
    "                    tmp+=\",\"\n",
    "                tmp+=str(randNumGen(0,99,[1.0/100 for i in range(100)]));\n",
    "            tmp+=\")\"\n",
    "            self.sql.add(key(value=tmp,type=\"value\"))\n",
    "            # self.sql.add(key(value=\";\",type=\"end\"))\n",
    "        else:\n",
    "            pass\n",
    "        self.sqlSet.append(self.sql)\n",
    "        return self.sql"
   ]
  },
  {
   "cell_type": "code",
<<<<<<< HEAD
   "execution_count": 18,
=======
   "execution_count": 108,
>>>>>>> 30689e0ca1d10658832075739da9956ea5d13842
   "metadata": {},
   "outputs": [
    {
     "name": "stdout",
     "output_type": "stream",
     "text": [
<<<<<<< HEAD
      "select * from tb11 join tb22 where tb11.col1 = tb22.col2 or tb22.col2 = 37\n",
=======
      "select * from tb44 join tb33 where tb44.col2 = tb33.col1 or tb11.col1 > 98 and tb22.col2 > 8\n",
>>>>>>> 30689e0ca1d10658832075739da9956ea5d13842
      "\n"
     ]
    }
   ],
   "source": [
    "# all_tables,cons=loadJson('input.json','r')\n",
    "# dbs=DBschema(tbs=all_tables,cons=None)\n",
    "sg=SQLGen2(dbs=dbs)\n",
    "# fea=feature(cons[0],cons[1])\n",
    "sg.generate(condition=fea)\n",
    "print(sg.sql.toStr())"
   ]
  },
  {
   "cell_type": "code",
   "execution_count": null,
   "metadata": {},
   "outputs": [],
   "source": []
  },
  {
   "cell_type": "code",
   "execution_count": null,
   "metadata": {},
   "outputs": [],
   "source": []
  }
 ],
 "metadata": {
  "kernelspec": {
   "display_name": "gpt3",
   "language": "python",
   "name": "python3"
  },
  "language_info": {
   "codemirror_mode": {
    "name": "ipython",
    "version": 3
   },
   "file_extension": ".py",
   "mimetype": "text/x-python",
   "name": "python",
   "nbconvert_exporter": "python",
   "pygments_lexer": "ipython3",
   "version": "3.10.8"
  },
  "orig_nbformat": 4,
  "vscode": {
   "interpreter": {
    "hash": "b9ac02aae607139adf8e5fa8a62e114f592a713bf43b6e1a58735c485260187e"
   }
  }
 },
 "nbformat": 4,
 "nbformat_minor": 2
}
